{
 "cells": [
  {
   "cell_type": "code",
   "execution_count": 22,
   "metadata": {},
   "outputs": [],
   "source": [
    "from utils import spark\n",
    "from pyspark.sql import functions as F\n",
    "from pyspark.sql.types import *\n",
    "import seaborn as sns\n",
    "import matplotlib.pyplot as plt"
   ]
  },
  {
   "cell_type": "code",
   "execution_count": 2,
   "metadata": {},
   "outputs": [
    {
     "name": "stderr",
     "output_type": "stream",
     "text": [
      "                                                                                \r"
     ]
    },
    {
     "name": "stdout",
     "output_type": "stream",
     "text": [
      "+-------+----------------------------------+-------------------------------------------+\n",
      "|movieId|title                             |genres                                     |\n",
      "+-------+----------------------------------+-------------------------------------------+\n",
      "|1      |Toy Story (1995)                  |Adventure|Animation|Children|Comedy|Fantasy|\n",
      "|2      |Jumanji (1995)                    |Adventure|Children|Fantasy                 |\n",
      "|3      |Grumpier Old Men (1995)           |Comedy|Romance                             |\n",
      "|4      |Waiting to Exhale (1995)          |Comedy|Drama|Romance                       |\n",
      "|5      |Father of the Bride Part II (1995)|Comedy                                     |\n",
      "+-------+----------------------------------+-------------------------------------------+\n",
      "only showing top 5 rows\n",
      "\n",
      "+------+-------+------+----------+\n",
      "|userId|movieId|rating|timestamp |\n",
      "+------+-------+------+----------+\n",
      "|1     |296    |5.0   |1147880044|\n",
      "|1     |306    |3.5   |1147868817|\n",
      "|1     |307    |5.0   |1147868828|\n",
      "|1     |665    |5.0   |1147878820|\n",
      "|1     |899    |3.5   |1147868510|\n",
      "+------+-------+------+----------+\n",
      "only showing top 5 rows\n",
      "\n"
     ]
    }
   ],
   "source": [
    "file_path='data/'\n",
    "movies=spark.read.csv(file_path+'movies.csv',header=True)\n",
    "movie_ratings=spark.read.csv(file_path+'ratings.csv',header=True)\n",
    "movies.show(5,False)\n",
    "movie_ratings.show(5,False)"
   ]
  },
  {
   "cell_type": "code",
   "execution_count": 3,
   "metadata": {},
   "outputs": [
    {
     "name": "stderr",
     "output_type": "stream",
     "text": [
      "[Stage 5:=================================================>         (5 + 1) / 6]\r"
     ]
    },
    {
     "name": "stdout",
     "output_type": "stream",
     "text": [
      "+-------+------+------+----------+----------+------------------------------------+--------------+\n",
      "|movieId|userId|rating|timestamp |datetime  |title                               |genres        |\n",
      "+-------+------+------+----------+----------+------------------------------------+--------------+\n",
      "|51372  |1262  |4.5   |1314846144|2011-09-01|\"\"\"Great Performances\"\" Cats (1998)\"|Musical       |\n",
      "|195955 |21007 |3.5   |1570139090|2019-10-04|#Female Pleasure (2018)             |Documentary   |\n",
      "|201174 |7865  |1.0   |1555502980|2019-04-17|#SquadGoals (2018)                  |Drama|Thriller|\n",
      "+-------+------+------+----------+----------+------------------------------------+--------------+\n",
      "only showing top 3 rows\n",
      "\n"
     ]
    },
    {
     "name": "stderr",
     "output_type": "stream",
     "text": [
      "                                                                                \r"
     ]
    }
   ],
   "source": [
    "# converting the UTC timestamp to Datetime\n",
    "movie_ratings = movie_ratings = movie_ratings.\\\n",
    "    withColumn('datetime', F.date_format(F.from_unixtime('timestamp'), 'yyyy-MM-dd'))\n",
    "# setelah itu mari kita marging the movies dan rantings file\n",
    "movie_ratings=movie_ratings.join(movies,how='inner',on=\"movieId\")\n",
    "# drop data duplicate\n",
    "movie_ratings=movie_ratings.drop_duplicates(['title','genres'])\n",
    "movie_ratings.show(3,False)"
   ]
  },
  {
   "cell_type": "code",
   "execution_count": 4,
   "metadata": {},
   "outputs": [
    {
     "name": "stderr",
     "output_type": "stream",
     "text": [
      "[Stage 9:=================================================>         (5 + 1) / 6]\r"
     ]
    },
    {
     "name": "stdout",
     "output_type": "stream",
     "text": [
      "+-------+------+------+----------+------------------------------------+--------------+\n",
      "|movieId|userId|rating|datetime  |title                               |genres        |\n",
      "+-------+------+------+----------+------------------------------------+--------------+\n",
      "|51372  |1262  |4.5   |2011-09-01|\"\"\"Great Performances\"\" Cats (1998)\"|Musical       |\n",
      "|195955 |21007 |3.5   |2019-10-04|#Female Pleasure (2018)             |Documentary   |\n",
      "|201174 |7865  |1.0   |2019-04-17|#SquadGoals (2018)                  |Drama|Thriller|\n",
      "+-------+------+------+----------+------------------------------------+--------------+\n",
      "only showing top 3 rows\n",
      "\n"
     ]
    },
    {
     "name": "stderr",
     "output_type": "stream",
     "text": [
      "                                                                                \r"
     ]
    }
   ],
   "source": [
    "movie_ratings=movie_ratings.drop('timestamp')\n",
    "movie_ratings.show(3,False)"
   ]
  },
  {
   "cell_type": "code",
   "execution_count": 7,
   "metadata": {},
   "outputs": [
    {
     "name": "stderr",
     "output_type": "stream",
     "text": [
      "[Stage 27:================================================>         (5 + 1) / 6]\r"
     ]
    },
    {
     "name": "stdout",
     "output_type": "stream",
     "text": [
      "jumlah record datanya adalah: 59035\n",
      "jumlah feature datanya adalah: 6\n",
      "list feature adalah: ['movieId', 'userId', 'rating', 'datetime', 'title', 'genres']\n"
     ]
    },
    {
     "name": "stderr",
     "output_type": "stream",
     "text": [
      "                                                                                \r"
     ]
    }
   ],
   "source": [
    "print(\"jumlah record datanya adalah:\",movie_ratings.count())\n",
    "print(\"jumlah feature datanya adalah:\",len(movie_ratings.columns))\n",
    "print(\"list feature adalah:\",movie_ratings.columns)\n"
   ]
  },
  {
   "attachments": {},
   "cell_type": "markdown",
   "metadata": {},
   "source": [
    "## data Cleaning\n"
   ]
  },
  {
   "cell_type": "code",
   "execution_count": 10,
   "metadata": {},
   "outputs": [
    {
     "name": "stderr",
     "output_type": "stream",
     "text": [
      "[Stage 48:================================================>         (5 + 1) / 6]\r"
     ]
    },
    {
     "name": "stdout",
     "output_type": "stream",
     "text": [
      "No duplicate data found.\n"
     ]
    },
    {
     "name": "stderr",
     "output_type": "stream",
     "text": [
      "                                                                                \r"
     ]
    }
   ],
   "source": [
    "# Drop duplicates based on all columns\n",
    "original_count = movie_ratings.count()\n",
    "deduplicated_df = movie_ratings.dropDuplicates()\n",
    "\n",
    "# Count the number of rows after dropping duplicates\n",
    "deduplicated_count = deduplicated_df.count()\n",
    "\n",
    "# Check if duplicates exist\n",
    "if deduplicated_count < original_count:\n",
    "    print(\"Duplicate data found.\")\n",
    "else:\n",
    "    print(\"No duplicate data found.\")"
   ]
  },
  {
   "attachments": {},
   "cell_type": "markdown",
   "metadata": {},
   "source": [
    "karena kita telah melakukan merge/join pada data movie dan ranting\n",
    "dan kita telah check data dumpicated,jadi data itu masih aman untuk perjalanan ini"
   ]
  },
  {
   "cell_type": "code",
   "execution_count": 11,
   "metadata": {},
   "outputs": [
    {
     "name": "stdout",
     "output_type": "stream",
     "text": [
      "root\n",
      " |-- movieId: string (nullable = true)\n",
      " |-- userId: string (nullable = true)\n",
      " |-- rating: string (nullable = true)\n",
      " |-- datetime: string (nullable = true)\n",
      " |-- title: string (nullable = true)\n",
      " |-- genres: string (nullable = true)\n",
      "\n"
     ]
    }
   ],
   "source": [
    "movie_ratings.printSchema()"
   ]
  },
  {
   "attachments": {},
   "cell_type": "markdown",
   "metadata": {},
   "source": [
    "dilihat dari prinschema ini mari kita ubah angka tipe data"
   ]
  },
  {
   "cell_type": "code",
   "execution_count": 18,
   "metadata": {},
   "outputs": [
    {
     "name": "stderr",
     "output_type": "stream",
     "text": [
      "[Stage 67:================================================>         (5 + 1) / 6]\r"
     ]
    },
    {
     "name": "stdout",
     "output_type": "stream",
     "text": [
      "+-------+------+------+----------+------------------------------------+--------------+\n",
      "|movieId|userId|rating|datetime  |title                               |genres        |\n",
      "+-------+------+------+----------+------------------------------------+--------------+\n",
      "|51372  |1262  |4.5   |2011-09-01|\"\"\"Great Performances\"\" Cats (1998)\"|Musical       |\n",
      "|195955 |21007 |3.5   |2019-10-04|#Female Pleasure (2018)             |Documentary   |\n",
      "|201174 |7865  |1.0   |2019-04-17|#SquadGoals (2018)                  |Drama|Thriller|\n",
      "+-------+------+------+----------+------------------------------------+--------------+\n",
      "only showing top 3 rows\n",
      "\n"
     ]
    },
    {
     "name": "stderr",
     "output_type": "stream",
     "text": [
      "                                                                                \r"
     ]
    }
   ],
   "source": [
    "movie_ratings=movie_ratings.withColumn(\"movieId\",movie_ratings.movieId.cast(IntegerType()))\\\n",
    ".withColumn(\"userId\",movie_ratings.userId.cast(IntegerType()))\\\n",
    ".withColumn(\"rating\",movie_ratings.rating.cast(FloatType()))\n",
    "movie_ratings.show(3,False)"
   ]
  },
  {
   "cell_type": "code",
   "execution_count": 19,
   "metadata": {},
   "outputs": [
    {
     "name": "stdout",
     "output_type": "stream",
     "text": [
      "root\n",
      " |-- movieId: integer (nullable = true)\n",
      " |-- userId: integer (nullable = true)\n",
      " |-- rating: float (nullable = true)\n",
      " |-- datetime: string (nullable = true)\n",
      " |-- title: string (nullable = true)\n",
      " |-- genres: string (nullable = true)\n",
      "\n"
     ]
    }
   ],
   "source": [
    "movie_ratings.printSchema()"
   ]
  },
  {
   "attachments": {},
   "cell_type": "markdown",
   "metadata": {},
   "source": [
    "nah jadi ini ubah"
   ]
  },
  {
   "cell_type": "code",
   "execution_count": 32,
   "metadata": {},
   "outputs": [],
   "source": [
    "def changingLabels(number):\n",
    "\n",
    "    return str(number/10**6) + \"M\""
   ]
  },
  {
   "cell_type": "code",
   "execution_count": 36,
   "metadata": {},
   "outputs": [
    {
     "name": "stderr",
     "output_type": "stream",
     "text": [
      "                                                                                \r"
     ]
    },
    {
     "data": {
      "image/png": "[encoded data removed]",
      "text/plain": [
       "<Figure size 2500x500 with 1 Axes>"
      ]
     },
     "metadata": {},
     "output_type": "display_data"
    },
    {
     "data": {
      "image/png": "[encoded data removed]",
      "text/plain": [
       "<Figure size 640x480 with 1 Axes>"
      ]
     },
     "metadata": {},
     "output_type": "display_data"
    }
   ],
   "source": [
    "fig,axes=plt.subplots(1,1,figsize=(25,5),sharey=True)\n",
    "count_ranting=movie_ratings.groupBy('rating').count().toPandas()\n",
    "count_ranting\n",
    "count_ranting.plot(kind=\"bar\", x=\"rating\", y=\"count\")\n",
    "plt.show()"
   ]
  },
  {
   "cell_type": "code",
   "execution_count": null,
   "metadata": {},
   "outputs": [],
   "source": []
  }
 ],
 "metadata": {
  "kernelspec": {
   "display_name": "Python 3",
   "language": "python",
   "name": "python3"
  },
  "language_info": {
   "codemirror_mode": {
    "name": "ipython",
    "version": 3
   },
   "file_extension": ".py",
   "mimetype": "text/x-python",
   "name": "python",
   "nbconvert_exporter": "python",
   "pygments_lexer": "ipython3",
   "version": "3.10.7"
  },
  "orig_nbformat": 4
 },
 "nbformat": 4,
 "nbformat_minor": 2
}
