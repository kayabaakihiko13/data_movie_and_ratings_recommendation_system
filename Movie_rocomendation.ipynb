{
 "cells": [
  {
   "cell_type": "code",
   "execution_count": 1,
   "metadata": {},
   "outputs": [
    {
     "name": "stdout",
     "output_type": "stream",
     "text": [
      "23/06/04 17:14:44 WARN Utils: Your hostname, kayaba-kayaba resolves to a loopback address: 127.0.1.1; using 192.168.18.183 instead (on interface wlp3s0)\n",
      "23/06/04 17:14:44 WARN Utils: Set SPARK_LOCAL_IP if you need to bind to another address\n"
     ]
    },
    {
     "name": "stderr",
     "output_type": "stream",
     "text": [
      "Setting default log level to \"WARN\".\n",
      "To adjust logging level use sc.setLogLevel(newLevel). For SparkR, use setLogLevel(newLevel).\n"
     ]
    },
    {
     "name": "stdout",
     "output_type": "stream",
     "text": [
      "23/06/04 17:14:45 WARN NativeCodeLoader: Unable to load native-hadoop library for your platform... using builtin-java classes where applicable\n"
     ]
    }
   ],
   "source": [
    "from utils import spark\n",
    "from pyspark.sql import functions as F\n",
    "from pyspark.sql.types import *\n",
    "import seaborn as sns\n",
    "import matplotlib.pyplot as plt"
   ]
  },
  {
   "attachments": {},
   "cell_type": "markdown",
   "metadata": {},
   "source": [
    "# Load data"
   ]
  },
  {
   "cell_type": "code",
   "execution_count": 2,
   "metadata": {},
   "outputs": [
    {
     "name": "stderr",
     "output_type": "stream",
     "text": [
      "                                                                                \r"
     ]
    },
    {
     "name": "stdout",
     "output_type": "stream",
     "text": [
      "CPU times: user 9.91 ms, sys: 1.92 ms, total: 11.8 ms\n",
      "Wall time: 10.8 s\n"
     ]
    }
   ],
   "source": [
    "%%time\n",
    "rating_df=spark.read.csv('data/ratings.csv',header=True)\n",
    "tags_df=spark.read.csv(\"data/tags.csv\",header=True)\n",
    "title_df=spark.read.csv(\"data/movies.csv\",header=True)"
   ]
  },
  {
   "cell_type": "code",
   "execution_count": 3,
   "metadata": {},
   "outputs": [
    {
     "name": "stderr",
     "output_type": "stream",
     "text": [
      "                                                                                \r"
     ]
    },
    {
     "name": "stdout",
     "output_type": "stream",
     "text": [
      "jumlah User yang memberikan rating: 162541\n"
     ]
    },
    {
     "name": "stderr",
     "output_type": "stream",
     "text": [
      "                                                                                \r"
     ]
    },
    {
     "name": "stdout",
     "output_type": "stream",
     "text": [
      "Jumlah tidak ada Movies: 59047\n"
     ]
    },
    {
     "name": "stderr",
     "output_type": "stream",
     "text": [
      "                                                                                \r"
     ]
    },
    {
     "name": "stdout",
     "output_type": "stream",
     "text": [
      "jumlah yang tidak ada tag ratings: 25000095\n"
     ]
    },
    {
     "name": "stderr",
     "output_type": "stream",
     "text": [
      "                                                                                \r"
     ]
    },
    {
     "name": "stdout",
     "output_type": "stream",
     "text": [
      "Jumlah user yang tidak komentar: 73051\n"
     ]
    },
    {
     "name": "stderr",
     "output_type": "stream",
     "text": [
      "                                                                                \r"
     ]
    },
    {
     "name": "stdout",
     "output_type": "stream",
     "text": [
      "Jumlah film yang tidak komentar: 45251\n"
     ]
    },
    {
     "name": "stderr",
     "output_type": "stream",
     "text": [
      "                                                                                \r"
     ]
    },
    {
     "name": "stdout",
     "output_type": "stream",
     "text": [
      "pesentasi pengguna yang berkomentar: 44.94312204305375\n"
     ]
    },
    {
     "name": "stderr",
     "output_type": "stream",
     "text": [
      "[Stage 48:================================================>         (5 + 1) / 6]\r"
     ]
    },
    {
     "name": "stdout",
     "output_type": "stream",
     "text": [
      "persentasi film yang tidal berkomentar oleh user: 0.7663556150185445\n",
      "CPU times: user 54.8 ms, sys: 31 ms, total: 85.8 ms\n",
      "Wall time: 1min 40s\n"
     ]
    },
    {
     "name": "stderr",
     "output_type": "stream",
     "text": [
      "                                                                                \r"
     ]
    }
   ],
   "source": [
    "%%time\n",
    "print(\"jumlah User yang memberikan rating:\",rating_df.select(\"userId\").distinct().count())\n",
    "print(\"Jumlah tidak ada Movies:\",rating_df.select(\"movieId\").distinct().count())\n",
    "print(\"jumlah yang tidak ada tag ratings:\",rating_df.select(\"rating\").count())\n",
    "print(\"Jumlah user yang tidak komentar:\",tags_df.select(\"tag\").distinct().count())\n",
    "print(\"Jumlah film yang tidak komentar:\",tags_df.select(\"movieId\").distinct().count())\n",
    "print(\"pesentasi pengguna yang berkomentar:\",\n",
    "      tags_df.select(\"tag\").distinct().count()\n",
    "      / rating_df.select(\"userId\").distinct().count()*100)\n",
    "print(\"persentasi film yang tidal berkomentar oleh user:\",tags_df.select('movieId').distinct().count()\n",
    "      / rating_df.select(\"movieId\").distinct().count())"
   ]
  },
  {
   "cell_type": "code",
   "execution_count": 4,
   "metadata": {},
   "outputs": [],
   "source": [
    "rating_df=rating_df.drop('timestamp')\n",
    "tags_df=tags_df.drop('timestamp')"
   ]
  },
  {
   "cell_type": "code",
   "execution_count": 5,
   "metadata": {},
   "outputs": [
    {
     "name": "stdout",
     "output_type": "stream",
     "text": [
      "+-------+-----------------------+-------------------------------------------+----+\n",
      "|movieId|title                  |genres                                     |Year|\n",
      "+-------+-----------------------+-------------------------------------------+----+\n",
      "|1      |Toy Story (1995)       |Adventure|Animation|Children|Comedy|Fantasy|1995|\n",
      "|2      |Jumanji (1995)         |Adventure|Children|Fantasy                 |1995|\n",
      "|3      |Grumpier Old Men (1995)|Comedy|Romance                             |1995|\n",
      "+-------+-----------------------+-------------------------------------------+----+\n",
      "only showing top 3 rows\n",
      "\n"
     ]
    }
   ],
   "source": [
    "title_df=title_df.withColumn(\"Year\",F.regexp_extract(\"title\",r'\\((\\d{4})\\)',1))\n",
    "title_df.show(n=3,truncate=False)"
   ]
  },
  {
   "cell_type": "code",
   "execution_count": 6,
   "metadata": {},
   "outputs": [],
   "source": [
    "# sss.show()"
   ]
  },
  {
   "cell_type": "code",
   "execution_count": 7,
   "metadata": {},
   "outputs": [
    {
     "name": "stdout",
     "output_type": "stream",
     "text": [
      "+-------+---------+---------+--------+------+-------+------+------+------+------+-------+--------------------+----+-----------+\n",
      "|movieId|   genre1|   genre2|  genre3|genre4| genre5|genre6|genre7|genre8|genre9|genre10|               title|year|genre_count|\n",
      "+-------+---------+---------+--------+------+-------+------+------+------+------+-------+--------------------+----+-----------+\n",
      "|      1|Adventure|Animation|Children|Comedy|Fantasy|  null|  null|  null|  null|   null|    Toy Story (1995)|1995|          5|\n",
      "|      2|Adventure| Children| Fantasy|  null|   null|  null|  null|  null|  null|   null|      Jumanji (1995)|1995|          3|\n",
      "|      3|   Comedy|  Romance|    null|  null|   null|  null|  null|  null|  null|   null|Grumpier Old Men ...|1995|          2|\n",
      "+-------+---------+---------+--------+------+-------+------+------+------+------+-------+--------------------+----+-----------+\n",
      "only showing top 3 rows\n",
      "\n"
     ]
    }
   ],
   "source": [
    "from pyspark.sql.functions import col, split, expr\n",
    "# Separate genre into each column\n",
    "split_cols = [split(col('genres'), '\\|').getItem(i).alias(f'genre{i+1}') for i in range(10)]\n",
    "split_cols.insert(0, col('movieId'))  # Add 'movieId' as the first column\n",
    "sss = title_df.select(*split_cols, 'title', 'year')\n",
    "\n",
    "# Count genres (non-zero values)\n",
    "genre_columns = [col(f'genre{i+1}') for i in range(10)]\n",
    "genre_count_expr = sum((col_name.isNotNull().cast(IntegerType())) for col_name in genre_columns)\n",
    "title_df = sss.withColumn('genre_count', genre_count_expr)\n",
    "title_df.show(3)\n"
   ]
  },
  {
   "cell_type": "code",
   "execution_count": 8,
   "metadata": {},
   "outputs": [
    {
     "name": "stdout",
     "output_type": "stream",
     "text": [
      "+------+-------+------+\n",
      "|userId|movieId|rating|\n",
      "+------+-------+------+\n",
      "|     1|    296|   5.0|\n",
      "|     1|    306|   3.5|\n",
      "|     1|    307|   5.0|\n",
      "+------+-------+------+\n",
      "only showing top 3 rows\n",
      "\n"
     ]
    }
   ],
   "source": [
    "rating_df.show(3)"
   ]
  },
  {
   "cell_type": "code",
   "execution_count": 9,
   "metadata": {},
   "outputs": [],
   "source": [
    "from pyspark.sql.functions import avg, count\n",
    "\n",
    "# Avg movie ratings by movieId and count\n",
    "rating_avg = rating_df.groupBy('movieId').agg(avg('rating').alias('avg_rating'))\n",
    "rating_count = rating_df.groupBy('movieId').agg(count('rating').alias('rating_count'))\n",
    "\n",
    "# Avg user ratings by userId and count\n",
    "user_rating = rating_df.groupBy('userId').agg(avg('rating').alias('avg_rating'))\n",
    "user_count = rating_df.groupBy('userId').agg(count('rating').alias('rating_count'))\n",
    "\n",
    "# Convert to PySpark DataFrames\n",
    "rating_avg = rating_avg.withColumnRenamed('movieId', 'movieId')\n",
    "rating_count = rating_count.withColumnRenamed('movieId', 'movieId').withColumnRenamed('rating_count', 'rating_count')\n",
    "user_rating = user_rating.withColumnRenamed('userId', 'userId')\n",
    "user_count = user_count.withColumnRenamed('userId', 'userId').withColumnRenamed('rating_count', 'rating_count')\n",
    "\n",
    "# Merge DataFrames\n",
    "df_movie = rating_avg.join(rating_count, 'movieId', 'inner')\n",
    "df_movie = df_movie.orderBy('avg_rating', ascending=True)\n",
    "df_user = user_rating.join(user_count, 'userId', 'inner')\n",
    "df_user = df_user.orderBy('avg_rating', ascending=True)"
   ]
  },
  {
   "cell_type": "code",
   "execution_count": 10,
   "metadata": {},
   "outputs": [
    {
     "name": "stderr",
     "output_type": "stream",
     "text": [
      "[Stage 58:================================================>         (5 + 1) / 6]\r"
     ]
    },
    {
     "name": "stdout",
     "output_type": "stream",
     "text": [
      "+------+----------+------------+\n",
      "|userId|avg_rating|rating_count|\n",
      "+------+----------+------------+\n",
      "| 10364|       0.5|          20|\n",
      "| 61102|       0.5|          20|\n",
      "| 38998|       0.5|          20|\n",
      "| 63044|       0.5|          20|\n",
      "+------+----------+------------+\n",
      "only showing top 4 rows\n",
      "\n"
     ]
    },
    {
     "name": "stderr",
     "output_type": "stream",
     "text": [
      "                                                                                \r"
     ]
    }
   ],
   "source": [
    "df_user.show(4)"
   ]
  },
  {
   "cell_type": "code",
   "execution_count": 11,
   "metadata": {},
   "outputs": [
    {
     "name": "stderr",
     "output_type": "stream",
     "text": [
      "[Stage 64:================================================>         (5 + 1) / 6]\r"
     ]
    },
    {
     "name": "stdout",
     "output_type": "stream",
     "text": [
      "+-------+----------+------------+\n",
      "|movieId|avg_rating|rating_count|\n",
      "+-------+----------+------------+\n",
      "| 203264|       0.5|           1|\n",
      "| 197471|       0.5|           1|\n",
      "| 207475|       0.5|           1|\n",
      "| 179185|       0.5|           1|\n",
      "+-------+----------+------------+\n",
      "only showing top 4 rows\n",
      "\n"
     ]
    },
    {
     "name": "stderr",
     "output_type": "stream",
     "text": [
      "                                                                                \r"
     ]
    }
   ],
   "source": [
    "df_movie.show(4)"
   ]
  },
  {
   "cell_type": "code",
   "execution_count": 12,
   "metadata": {},
   "outputs": [
    {
     "data": {
      "text/plain": [
       "['movieId',\n",
       " 'genre1',\n",
       " 'genre2',\n",
       " 'genre3',\n",
       " 'genre4',\n",
       " 'genre5',\n",
       " 'genre6',\n",
       " 'genre7',\n",
       " 'genre8',\n",
       " 'genre9',\n",
       " 'genre10',\n",
       " 'title',\n",
       " 'year',\n",
       " 'genre_count']"
      ]
     },
     "execution_count": 12,
     "metadata": {},
     "output_type": "execute_result"
    }
   ],
   "source": [
    "title_df.columns"
   ]
  },
  {
   "cell_type": "code",
   "execution_count": 13,
   "metadata": {},
   "outputs": [
    {
     "name": "stdout",
     "output_type": "stream",
     "text": [
      "+-------+------+--------------------+---------+\n",
      "|movieId|userId|                 tag|   genre1|\n",
      "+-------+------+--------------------+---------+\n",
      "|    260|     3|             classic|   Action|\n",
      "|    260|     3|              sci-fi|   Action|\n",
      "|   1732|     4|         dark comedy|   Comedy|\n",
      "|   1732|     4|      great dialogue|   Comedy|\n",
      "|   7569|     4|    so bad it's good|   Action|\n",
      "|  44665|     4|unreliable narrators|    Crime|\n",
      "| 115569|     4|               tense|    Crime|\n",
      "| 115713|     4|artificial intell...|    Drama|\n",
      "| 115713|     4|       philosophical|    Drama|\n",
      "| 115713|     4|               tense|    Drama|\n",
      "| 148426|     4|    so bad it's good|    Drama|\n",
      "| 164909|     4|              cliche|   Comedy|\n",
      "| 164909|     4|             musical|   Comedy|\n",
      "| 168250|     4|              horror|   Horror|\n",
      "| 168250|     4|       unpredictable|   Horror|\n",
      "|   2160|    19|Oscar (Best Suppo...|    Drama|\n",
      "|   7099|    19|           adventure|Adventure|\n",
      "|   7099|    19|               anime|Adventure|\n",
      "|   7099|    19|             ecology|Adventure|\n",
      "|   7099|    19|             fantasy|Adventure|\n",
      "+-------+------+--------------------+---------+\n",
      "only showing top 20 rows\n",
      "\n"
     ]
    }
   ],
   "source": [
    "cols = ['movieId','genre1']\n",
    "dfk = title_df.select(*[col(c) for c in cols])\n",
    "gabung_tag=tags_df.join(dfk,on=\"movieId\",how='inner')\n",
    "gabung_tag.show()"
   ]
  },
  {
   "cell_type": "code",
   "execution_count": 14,
   "metadata": {},
   "outputs": [
    {
     "name": "stderr",
     "output_type": "stream",
     "text": [
      "[Stage 77:===========================================>              (3 + 1) / 4]\r"
     ]
    },
    {
     "name": "stdout",
     "output_type": "stream",
     "text": [
      "+------+-------+---------+\n",
      "|userId|movieId|tag_count|\n",
      "+------+-------+---------+\n",
      "| 31047|    318|      337|\n",
      "+------+-------+---------+\n",
      "\n"
     ]
    },
    {
     "name": "stderr",
     "output_type": "stream",
     "text": [
      "                                                                                \r"
     ]
    }
   ],
   "source": [
    "user_tags=tags_df.groupBy('userId', 'movieId').agg(F.count('tag').alias('tag_count'))\n",
    "max_tag_count = user_tags.agg(F.max('tag_count')).first()[0]\n",
    "\n",
    "# Filter the user_tags DataFrame to get rows with maximum tag count\n",
    "user_tags_max = user_tags.filter(user_tags.tag_count == max_tag_count)\n",
    "\n",
    "user_tags_max.show()"
   ]
  },
  {
   "cell_type": "code",
   "execution_count": 15,
   "metadata": {},
   "outputs": [
    {
     "name": "stderr",
     "output_type": "stream",
     "text": [
      "[Stage 82:>                                                         (0 + 4) / 4]\r"
     ]
    },
    {
     "name": "stdout",
     "output_type": "stream",
     "text": [
      "+------+---------+\n",
      "|userId|tag_count|\n",
      "+------+---------+\n",
      "|  7273|       31|\n",
      "| 11888|        3|\n",
      "| 13282|        6|\n",
      "+------+---------+\n",
      "only showing top 3 rows\n",
      "\n"
     ]
    },
    {
     "name": "stderr",
     "output_type": "stream",
     "text": [
      "                                                                                \r"
     ]
    }
   ],
   "source": [
    "from pyspark.sql import functions as F\n",
    "\n",
    "# Calculate tag count for each user\n",
    "user_tagcount = tags_df.groupBy('userId').agg(F.count('tag').alias('tag_count'))\n",
    "\n",
    "user_tagcount.show(3)\n"
   ]
  },
  {
   "cell_type": "code",
   "execution_count": 16,
   "metadata": {},
   "outputs": [
    {
     "name": "stderr",
     "output_type": "stream",
     "text": [
      "                                                                                \r"
     ]
    },
    {
     "name": "stdout",
     "output_type": "stream",
     "text": [
      "+-------+---------+----+------+------+--------+--------+------+------+------+------+------+-------+\n",
      "|movieId|tag_count|Year|genre1|genre2|  genre3|  genre4|genre5|genre6|genre7|genre8|genre9|genre10|\n",
      "+-------+---------+----+------+------+--------+--------+------+------+------+------+------+-------+\n",
      "| 115713|     2115|2015| Drama|Sci-Fi|Thriller|    null|  null|  null|  null|  null|  null|   null|\n",
      "|    296|     4767|1994|Comedy| Crime|   Drama|Thriller|  null|  null|  null|  null|  null|   null|\n",
      "| 177595|       14|1958|Horror|Sci-Fi|    null|    null|  null|  null|  null|  null|  null|   null|\n",
      "+-------+---------+----+------+------+--------+--------+------+------+------+------+------+-------+\n",
      "only showing top 3 rows\n",
      "\n"
     ]
    }
   ],
   "source": [
    "from pyspark.sql import functions as F\n",
    "\n",
    "# Calculate tag count for each movie\n",
    "movie_tagcount = tags_df.groupBy('movieId').agg(F.count('tag').alias('tag_count'))\n",
    "\n",
    "# Join with movie data to get year and genres\n",
    "movie_data = title_df.select('movieId', 'Year', 'genre1', 'genre2', 'genre3', 'genre4', 'genre5', 'genre6', 'genre7', 'genre8', 'genre9', 'genre10')\n",
    "movie_tagcount = movie_tagcount.join(movie_data, 'movieId', 'left')\n",
    "\n",
    "movie_tagcount.show(3)"
   ]
  },
  {
   "cell_type": "code",
   "execution_count": 17,
   "metadata": {},
   "outputs": [
    {
     "name": "stderr",
     "output_type": "stream",
     "text": [
      "                                                                                \r"
     ]
    },
    {
     "name": "stdout",
     "output_type": "stream",
     "text": [
      "+-------+---------+----+------+------+--------+--------+------+------+------+------+------+-------+-----------+------+\n",
      "|movieId|tag_count|Year|genre1|genre2|  genre3|  genre4|genre5|genre6|genre7|genre8|genre9|genre10|genre_count|genre1|\n",
      "+-------+---------+----+------+------+--------+--------+------+------+------+------+------+-------+-----------+------+\n",
      "| 115713|     2115|2015| Drama|Sci-Fi|Thriller|    null|  null|  null|  null|  null|  null|   null|          3| Drama|\n",
      "|    296|     4767|1994|Comedy| Crime|   Drama|Thriller|  null|  null|  null|  null|  null|   null|          4|Comedy|\n",
      "| 177595|       14|1958|Horror|Sci-Fi|    null|    null|  null|  null|  null|  null|  null|   null|          2|Horror|\n",
      "+-------+---------+----+------+------+--------+--------+------+------+------+------+------+-------+-----------+------+\n",
      "only showing top 3 rows\n",
      "\n"
     ]
    }
   ],
   "source": [
    "from pyspark.sql.functions import col\n",
    "\n",
    "# Select columns from df3\n",
    "df3_cols = ['movieId', 'genre_count', 'genre1']\n",
    "dfs = title_df.select(*df3_cols)\n",
    "\n",
    "# Join movie_tagcount with dfs\n",
    "movie_tagcount = movie_tagcount.join(dfs, on='movieId', how='inner')\n",
    "\n",
    "movie_tagcount.show(3)\n"
   ]
  },
  {
   "cell_type": "code",
   "execution_count": 18,
   "metadata": {},
   "outputs": [
    {
     "name": "stderr",
     "output_type": "stream",
     "text": [
      "[Stage 100:===============================================>         (5 + 1) / 6]\r"
     ]
    },
    {
     "name": "stdout",
     "output_type": "stream",
     "text": [
      "+-------+-----------+------+--------+------+------+------+------+------+------+-------+-------------------+----+-----------+------------------+------------+\n",
      "|movieId|     genre1|genre2|  genre3|genre4|genre5|genre6|genre7|genre8|genre9|genre10|              title|year|genre_count|        avg_rating|rating_count|\n",
      "+-------+-----------+------+--------+------+------+------+------+------+------+-------+-------------------+----+-----------+------------------+------------+\n",
      "| 100008|Documentary|  null|    null|  null|  null|  null|  null|  null|  null|   null|   Flaw, The (2011)|2011|          1|3.5714285714285716|          14|\n",
      "| 100040|      Crime| Drama|Thriller|  null|  null|  null|  null|  null|  null|   null|  True Blue (2001) |2001|          3|2.6666666666666665|           3|\n",
      "| 100054|      Drama|  null|    null|  null|  null|  null|  null|  null|  null|   null|Stella Maris (1918)|1918|          1|               3.3|           5|\n",
      "+-------+-----------+------+--------+------+------+------+------+------+------+-------+-------------------+----+-----------+------------------+------------+\n",
      "only showing top 3 rows\n",
      "\n"
     ]
    },
    {
     "name": "stderr",
     "output_type": "stream",
     "text": [
      "                                                                                \r"
     ]
    }
   ],
   "source": [
    "from pyspark.sql.functions import col\n",
    "\n",
    "# Join df3 with df_movie\n",
    "df3 = title_df.join(df_movie, on='movieId', how='inner')\n",
    "\n",
    "# Rename column\n",
    "df3 = df3.withColumnRenamed('rating', 'avg_rating')\n",
    "\n",
    "df3.show(3)\n"
   ]
  },
  {
   "attachments": {},
   "cell_type": "markdown",
   "metadata": {},
   "source": [
    "## Summary statistics to have some more insights"
   ]
  },
  {
   "cell_type": "code",
   "execution_count": 19,
   "metadata": {},
   "outputs": [
    {
     "name": "stderr",
     "output_type": "stream",
     "text": [
      "[Stage 108:===============================================>         (5 + 1) / 6]\r"
     ]
    },
    {
     "name": "stdout",
     "output_type": "stream",
     "text": [
      "+-------+-----------+------+--------+------+------+------+------+------+------+-------+-------------------+----+-----------+------------------+------------+------------------+------------+\n",
      "|movieId|     genre1|genre2|  genre3|genre4|genre5|genre6|genre7|genre8|genre9|genre10|              title|year|genre_count|        avg_rating|rating_count|        avg_rating|rating_count|\n",
      "+-------+-----------+------+--------+------+------+------+------+------+------+-------+-------------------+----+-----------+------------------+------------+------------------+------------+\n",
      "| 100008|Documentary|  null|    null|  null|  null|  null|  null|  null|  null|   null|   Flaw, The (2011)|2011|          1|3.5714285714285716|          14|3.5714285714285716|          14|\n",
      "| 100040|      Crime| Drama|Thriller|  null|  null|  null|  null|  null|  null|   null|  True Blue (2001) |2001|          3|2.6666666666666665|           3|2.6666666666666665|           3|\n",
      "| 100054|      Drama|  null|    null|  null|  null|  null|  null|  null|  null|   null|Stella Maris (1918)|1918|          1|               3.3|           5|               3.3|           5|\n",
      "+-------+-----------+------+--------+------+------+------+------+------+------+-------+-------------------+----+-----------+------------------+------------+------------------+------------+\n",
      "only showing top 3 rows\n",
      "\n"
     ]
    },
    {
     "name": "stderr",
     "output_type": "stream",
     "text": [
      "                                                                                \r"
     ]
    }
   ],
   "source": [
    "from pyspark.sql.functions import col\n",
    "\n",
    "# Join df3 with df_movie\n",
    "df3 = df3.join(df_movie, on='movieId', how='inner')\n",
    "\n",
    "# Rename column\n",
    "df3 = df3.withColumnRenamed('rating', 'avg_rating')\n",
    "\n",
    "df3.show(3)\n"
   ]
  },
  {
   "attachments": {},
   "cell_type": "markdown",
   "metadata": {},
   "source": [
    "# Data Visual"
   ]
  },
  {
   "cell_type": "code",
   "execution_count": 20,
   "metadata": {},
   "outputs": [
    {
     "name": "stderr",
     "output_type": "stream",
     "text": [
      "                                                                                \r"
     ]
    },
    {
     "data": {
      "image/png": "[encoded data removed]",
      "text/plain": [
       "<Figure size 1400x600 with 1 Axes>"
      ]
     },
     "metadata": {},
     "output_type": "display_data"
    }
   ],
   "source": [
    "import matplotlib.pyplot as plt\n",
    "\n",
    "# Collect histogram data\n",
    "hist_data = df3.select('Year').groupBy('Year').count().toPandas()\n",
    "\n",
    "# Set plot parameters\n",
    "plt.figure(figsize=(14, 6))\n",
    "plt.xlabel('Year')\n",
    "plt.ylabel('Count')\n",
    "plt.title('Year Distribution')\n",
    "\n",
    "# Create histogram using Matplotlib\n",
    "plt.hist(hist_data['Year'], bins=10, edgecolor='black')\n",
    "\n",
    "# Show the plot\n",
    "plt.show()\n"
   ]
  },
  {
   "cell_type": "code",
   "execution_count": 21,
   "metadata": {},
   "outputs": [
    {
     "name": "stderr",
     "output_type": "stream",
     "text": [
      "                                                                                \r"
     ]
    },
    {
     "name": "stdout",
     "output_type": "stream",
     "text": [
      "+--------+-----+\n",
      "|   genre|Count|\n",
      "+--------+-----+\n",
      "|   Crime| 2845|\n",
      "| Romance|  376|\n",
      "|Thriller|  884|\n",
      "+--------+-----+\n",
      "only showing top 3 rows\n",
      "\n"
     ]
    }
   ],
   "source": [
    "from pyspark.sql.functions import col\n",
    "genre_count = df3.groupBy(\"genre1\").count().alias(\"Count\")\n",
    "genre_count = genre_count.select(col('genre1').alias('genre'),col('Count'))\n",
    "genre_count.show(3)"
   ]
  },
  {
   "cell_type": "code",
   "execution_count": null,
   "metadata": {},
   "outputs": [],
   "source": []
  }
 ],
 "metadata": {
  "kernelspec": {
   "display_name": "Python 3",
   "language": "python",
   "name": "python3"
  },
  "language_info": {
   "codemirror_mode": {
    "name": "ipython",
    "version": 3
   },
   "file_extension": ".py",
   "mimetype": "text/x-python",
   "name": "python",
   "nbconvert_exporter": "python",
   "pygments_lexer": "ipython3",
   "version": "3.10.7"
  },
  "orig_nbformat": 4
 },
 "nbformat": 4,
 "nbformat_minor": 2
}
