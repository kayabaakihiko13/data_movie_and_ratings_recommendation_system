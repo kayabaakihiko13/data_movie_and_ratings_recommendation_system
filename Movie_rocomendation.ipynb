{
 "cells": [
  {
   "cell_type": "code",
   "execution_count": 106,
   "metadata": {},
   "outputs": [],
   "source": [
    "from utils import spark\n",
    "from pyspark.sql import functions as F\n",
    "from pyspark.sql.types import *\n",
    "import seaborn as sns\n",
    "import matplotlib.pyplot as plt"
   ]
  },
  {
   "attachments": {},
   "cell_type": "markdown",
   "metadata": {},
   "source": [
    "# Load data"
   ]
  },
  {
   "cell_type": "code",
   "execution_count": 107,
   "metadata": {},
   "outputs": [
    {
     "name": "stdout",
     "output_type": "stream",
     "text": [
      "CPU times: user 2.31 ms, sys: 4.12 ms, total: 6.44 ms\n",
      "Wall time: 633 ms\n"
     ]
    }
   ],
   "source": [
    "%%time\n",
    "rating_df=spark.read.csv('data/ratings.csv',header=True)\n",
    "tags_df=spark.read.csv(\"data/tags.csv\",header=True)\n",
    "title_df=spark.read.csv(\"data/movies.csv\",header=True)"
   ]
  },
  {
   "cell_type": "code",
   "execution_count": 108,
   "metadata": {},
   "outputs": [
    {
     "data": {
      "text/plain": [
       "['userId', 'movieId', 'tag', 'timestamp']"
      ]
     },
     "execution_count": 108,
     "metadata": {},
     "output_type": "execute_result"
    }
   ],
   "source": [
    "tags_df.columns"
   ]
  },
  {
   "cell_type": "code",
   "execution_count": 109,
   "metadata": {},
   "outputs": [
    {
     "name": "stderr",
     "output_type": "stream",
     "text": [
      "                                                                                \r"
     ]
    },
    {
     "name": "stdout",
     "output_type": "stream",
     "text": [
      "jumlah User yang memberikan rating: 162541\n"
     ]
    },
    {
     "name": "stderr",
     "output_type": "stream",
     "text": [
      "                                                                                \r"
     ]
    },
    {
     "name": "stdout",
     "output_type": "stream",
     "text": [
      "Jumlah tidak ada Movies: 59047\n"
     ]
    },
    {
     "name": "stderr",
     "output_type": "stream",
     "text": [
      "                                                                                \r"
     ]
    },
    {
     "name": "stdout",
     "output_type": "stream",
     "text": [
      "jumlah yang tidak ada tag ratings: 25000095\n"
     ]
    },
    {
     "name": "stderr",
     "output_type": "stream",
     "text": [
      "                                                                                \r"
     ]
    },
    {
     "name": "stdout",
     "output_type": "stream",
     "text": [
      "Jumlah user yang tidak komentar: 73051\n"
     ]
    },
    {
     "name": "stderr",
     "output_type": "stream",
     "text": [
      "                                                                                \r"
     ]
    },
    {
     "name": "stdout",
     "output_type": "stream",
     "text": [
      "Jumlah film yang tidak komentar: 45251\n"
     ]
    },
    {
     "name": "stderr",
     "output_type": "stream",
     "text": [
      "                                                                                \r"
     ]
    },
    {
     "name": "stdout",
     "output_type": "stream",
     "text": [
      "pesentasi pengguna yang berkomentar: 44.94312204305375\n"
     ]
    },
    {
     "name": "stderr",
     "output_type": "stream",
     "text": [
      "[Stage 453:===============================================>         (5 + 1) / 6]\r"
     ]
    },
    {
     "name": "stdout",
     "output_type": "stream",
     "text": [
      "persentasi film yang tidal berkomentar oleh user: 0.7663556150185445\n",
      "CPU times: user 74.3 ms, sys: 4.31 ms, total: 78.6 ms\n",
      "Wall time: 1min 37s\n"
     ]
    },
    {
     "name": "stderr",
     "output_type": "stream",
     "text": [
      "                                                                                \r"
     ]
    }
   ],
   "source": [
    "%%time\n",
    "print(\"jumlah User yang memberikan rating:\",rating_df.select(\"userId\").distinct().count())\n",
    "print(\"Jumlah tidak ada Movies:\",rating_df.select(\"movieId\").distinct().count())\n",
    "print(\"jumlah yang tidak ada tag ratings:\",rating_df.select(\"rating\").count())\n",
    "print(\"Jumlah user yang tidak komentar:\",tags_df.select(\"tag\").distinct().count())\n",
    "print(\"Jumlah film yang tidak komentar:\",tags_df.select(\"movieId\").distinct().count())\n",
    "print(\"pesentasi pengguna yang berkomentar:\",\n",
    "      tags_df.select(\"tag\").distinct().count()\n",
    "      / rating_df.select(\"userId\").distinct().count()*100)\n",
    "print(\"persentasi film yang tidal berkomentar oleh user:\",tags_df.select('movieId').distinct().count()\n",
    "      / rating_df.select(\"movieId\").distinct().count())"
   ]
  },
  {
   "cell_type": "code",
   "execution_count": 110,
   "metadata": {},
   "outputs": [],
   "source": [
    "rating_df=rating_df.drop('timestamp')\n",
    "tags_df=tags_df.drop('timestamp')"
   ]
  },
  {
   "cell_type": "code",
   "execution_count": 111,
   "metadata": {},
   "outputs": [
    {
     "name": "stdout",
     "output_type": "stream",
     "text": [
      "+-------+-----------------------+-------------------------------------------+----+\n",
      "|movieId|title                  |genres                                     |Year|\n",
      "+-------+-----------------------+-------------------------------------------+----+\n",
      "|1      |Toy Story (1995)       |Adventure|Animation|Children|Comedy|Fantasy|1995|\n",
      "|2      |Jumanji (1995)         |Adventure|Children|Fantasy                 |1995|\n",
      "|3      |Grumpier Old Men (1995)|Comedy|Romance                             |1995|\n",
      "+-------+-----------------------+-------------------------------------------+----+\n",
      "only showing top 3 rows\n",
      "\n"
     ]
    }
   ],
   "source": [
    "title_df=title_df.withColumn(\"Year\",F.regexp_extract(\"title\",r'\\((\\d{4})\\)',1))\n",
    "title_df.show(n=3,truncate=False)"
   ]
  },
  {
   "cell_type": "code",
   "execution_count": 112,
   "metadata": {},
   "outputs": [
    {
     "name": "stdout",
     "output_type": "stream",
     "text": [
      "+--------------------+----+---------+---------+--------+------+--------+------+------+------+------+-------+\n",
      "|               title|year|   genre1|   genre2|  genre3|genre4|  genre5|genre6|genre7|genre8|genre9|genre10|\n",
      "+--------------------+----+---------+---------+--------+------+--------+------+------+------+------+-------+\n",
      "|    Toy Story (1995)|1995|Adventure|Animation|Children|Comedy| Fantasy|  null|  null|  null|  null|   null|\n",
      "|      Jumanji (1995)|1995|Adventure| Children| Fantasy|  null|    null|  null|  null|  null|  null|   null|\n",
      "|Grumpier Old Men ...|1995|   Comedy|  Romance|    null|  null|    null|  null|  null|  null|  null|   null|\n",
      "|Waiting to Exhale...|1995|   Comedy|    Drama| Romance|  null|    null|  null|  null|  null|  null|   null|\n",
      "|Father of the Bri...|1995|   Comedy|     null|    null|  null|    null|  null|  null|  null|  null|   null|\n",
      "|         Heat (1995)|1995|   Action|    Crime|Thriller|  null|    null|  null|  null|  null|  null|   null|\n",
      "|      Sabrina (1995)|1995|   Comedy|  Romance|    null|  null|    null|  null|  null|  null|  null|   null|\n",
      "| Tom and Huck (1995)|1995|Adventure| Children|    null|  null|    null|  null|  null|  null|  null|   null|\n",
      "| Sudden Death (1995)|1995|   Action|     null|    null|  null|    null|  null|  null|  null|  null|   null|\n",
      "|    GoldenEye (1995)|1995|   Action|Adventure|Thriller|  null|    null|  null|  null|  null|  null|   null|\n",
      "|American Presiden...|1995|   Comedy|    Drama| Romance|  null|    null|  null|  null|  null|  null|   null|\n",
      "|Dracula: Dead and...|1995|   Comedy|   Horror|    null|  null|    null|  null|  null|  null|  null|   null|\n",
      "|        Balto (1995)|1995|Adventure|Animation|Children|  null|    null|  null|  null|  null|  null|   null|\n",
      "|        Nixon (1995)|1995|    Drama|     null|    null|  null|    null|  null|  null|  null|  null|   null|\n",
      "|Cutthroat Island ...|1995|   Action|Adventure| Romance|  null|    null|  null|  null|  null|  null|   null|\n",
      "|       Casino (1995)|1995|    Crime|    Drama|    null|  null|    null|  null|  null|  null|  null|   null|\n",
      "|Sense and Sensibi...|1995|    Drama|  Romance|    null|  null|    null|  null|  null|  null|  null|   null|\n",
      "|   Four Rooms (1995)|1995|   Comedy|     null|    null|  null|    null|  null|  null|  null|  null|   null|\n",
      "|Ace Ventura: When...|1995|   Comedy|     null|    null|  null|    null|  null|  null|  null|  null|   null|\n",
      "|  Money Train (1995)|1995|   Action|   Comedy|   Crime| Drama|Thriller|  null|  null|  null|  null|   null|\n",
      "+--------------------+----+---------+---------+--------+------+--------+------+------+------+------+-------+\n",
      "only showing top 20 rows\n",
      "\n"
     ]
    }
   ],
   "source": [
    "sss.show()"
   ]
  },
  {
   "cell_type": "code",
   "execution_count": 113,
   "metadata": {},
   "outputs": [
    {
     "name": "stdout",
     "output_type": "stream",
     "text": [
      "+-------+---------+---------+--------+------+-------+------+------+------+------+-------+--------------------+----+-----------+\n",
      "|movieId|   genre1|   genre2|  genre3|genre4| genre5|genre6|genre7|genre8|genre9|genre10|               title|year|genre_count|\n",
      "+-------+---------+---------+--------+------+-------+------+------+------+------+-------+--------------------+----+-----------+\n",
      "|      1|Adventure|Animation|Children|Comedy|Fantasy|  null|  null|  null|  null|   null|    Toy Story (1995)|1995|       null|\n",
      "|      2|Adventure| Children| Fantasy|  null|   null|  null|  null|  null|  null|   null|      Jumanji (1995)|1995|       null|\n",
      "|      3|   Comedy|  Romance|    null|  null|   null|  null|  null|  null|  null|   null|Grumpier Old Men ...|1995|       null|\n",
      "+-------+---------+---------+--------+------+-------+------+------+------+------+-------+--------------------+----+-----------+\n",
      "only showing top 3 rows\n",
      "\n"
     ]
    }
   ],
   "source": [
    "from pyspark.sql.functions import col, split, expr\n",
    "from pyspark.sql.types import IntegerType\n",
    "\n",
    "# Separate genre into each column\n",
    "split_cols = [split(col('genres'), '\\|').getItem(i).alias(f'genre{i+1}') for i in range(10)]\n",
    "split_cols.insert(0, col('movieId'))  # Add 'movieId' as the first column\n",
    "sss = title_df.select(*split_cols, 'title', 'year')\n",
    "\n",
    "# Count genres (non-zero values)\n",
    "genre_columns = [col(f'genre{i+1}') for i in range(10)]\n",
    "title_df = sss.withColumn('genre_count', sum((col_name != 'null').cast(IntegerType()) for col_name in genre_columns))\n",
    "\n",
    "title_df.show(3)\n"
   ]
  },
  {
   "cell_type": "code",
   "execution_count": 114,
   "metadata": {},
   "outputs": [
    {
     "name": "stdout",
     "output_type": "stream",
     "text": [
      "+------+-------+------+\n",
      "|userId|movieId|rating|\n",
      "+------+-------+------+\n",
      "|     1|    296|   5.0|\n",
      "|     1|    306|   3.5|\n",
      "|     1|    307|   5.0|\n",
      "+------+-------+------+\n",
      "only showing top 3 rows\n",
      "\n"
     ]
    }
   ],
   "source": [
    "rating_df.show(3)"
   ]
  },
  {
   "cell_type": "code",
   "execution_count": 115,
   "metadata": {},
   "outputs": [],
   "source": [
    "from pyspark.sql.functions import avg, count\n",
    "\n",
    "# Avg movie ratings by movieId and count\n",
    "rating_avg = rating_df.groupBy('movieId').agg(avg('rating').alias('avg_rating'))\n",
    "rating_count = rating_df.groupBy('movieId').agg(count('rating').alias('rating_count'))\n",
    "\n",
    "# Avg user ratings by userId and count\n",
    "user_rating = rating_df.groupBy('userId').agg(avg('rating').alias('avg_rating'))\n",
    "user_count = rating_df.groupBy('userId').agg(count('rating').alias('rating_count'))\n",
    "\n",
    "# Convert to PySpark DataFrames\n",
    "rating_avg = rating_avg.withColumnRenamed('movieId', 'movieId')\n",
    "rating_count = rating_count.withColumnRenamed('movieId', 'movieId').withColumnRenamed('rating_count', 'rating_count')\n",
    "user_rating = user_rating.withColumnRenamed('userId', 'userId')\n",
    "user_count = user_count.withColumnRenamed('userId', 'userId').withColumnRenamed('rating_count', 'rating_count')\n",
    "\n",
    "# Merge DataFrames\n",
    "df_movie = rating_avg.join(rating_count, 'movieId', 'inner')\n",
    "df_movie = df_movie.orderBy('avg_rating', ascending=True)\n",
    "df_user = user_rating.join(user_count, 'userId', 'inner')\n",
    "df_user = df_user.orderBy('avg_rating', ascending=True)"
   ]
  },
  {
   "cell_type": "code",
   "execution_count": 116,
   "metadata": {},
   "outputs": [
    {
     "name": "stderr",
     "output_type": "stream",
     "text": [
      "[Stage 464:===============================================>         (5 + 1) / 6]\r"
     ]
    },
    {
     "name": "stdout",
     "output_type": "stream",
     "text": [
      "+------+----------+------------+\n",
      "|userId|avg_rating|rating_count|\n",
      "+------+----------+------------+\n",
      "| 10364|       0.5|          20|\n",
      "| 61102|       0.5|          20|\n",
      "| 38998|       0.5|          20|\n",
      "| 63044|       0.5|          20|\n",
      "+------+----------+------------+\n",
      "only showing top 4 rows\n",
      "\n"
     ]
    },
    {
     "name": "stderr",
     "output_type": "stream",
     "text": [
      "                                                                                \r"
     ]
    }
   ],
   "source": [
    "df_user.show(4)"
   ]
  },
  {
   "cell_type": "code",
   "execution_count": 117,
   "metadata": {},
   "outputs": [
    {
     "name": "stderr",
     "output_type": "stream",
     "text": [
      "[Stage 470:======================================>                  (4 + 2) / 6]\r"
     ]
    },
    {
     "name": "stdout",
     "output_type": "stream",
     "text": [
      "+-------+----------+------------+\n",
      "|movieId|avg_rating|rating_count|\n",
      "+-------+----------+------------+\n",
      "| 203264|       0.5|           1|\n",
      "| 197471|       0.5|           1|\n",
      "| 207475|       0.5|           1|\n",
      "| 179185|       0.5|           1|\n",
      "+-------+----------+------------+\n",
      "only showing top 4 rows\n",
      "\n"
     ]
    },
    {
     "name": "stderr",
     "output_type": "stream",
     "text": [
      "                                                                                \r"
     ]
    }
   ],
   "source": [
    "df_movie.show(4)"
   ]
  },
  {
   "cell_type": "code",
   "execution_count": 118,
   "metadata": {},
   "outputs": [
    {
     "data": {
      "text/plain": [
       "['movieId',\n",
       " 'genre1',\n",
       " 'genre2',\n",
       " 'genre3',\n",
       " 'genre4',\n",
       " 'genre5',\n",
       " 'genre6',\n",
       " 'genre7',\n",
       " 'genre8',\n",
       " 'genre9',\n",
       " 'genre10',\n",
       " 'title',\n",
       " 'year',\n",
       " 'genre_count']"
      ]
     },
     "execution_count": 118,
     "metadata": {},
     "output_type": "execute_result"
    }
   ],
   "source": [
    "title_df.columns"
   ]
  },
  {
   "cell_type": "code",
   "execution_count": 121,
   "metadata": {},
   "outputs": [
    {
     "name": "stdout",
     "output_type": "stream",
     "text": [
      "+-------+------+--------------------+---------+\n",
      "|movieId|userId|                 tag|   genre1|\n",
      "+-------+------+--------------------+---------+\n",
      "|    260|     3|             classic|   Action|\n",
      "|    260|     3|              sci-fi|   Action|\n",
      "|   1732|     4|         dark comedy|   Comedy|\n",
      "|   1732|     4|      great dialogue|   Comedy|\n",
      "|   7569|     4|    so bad it's good|   Action|\n",
      "|  44665|     4|unreliable narrators|    Crime|\n",
      "| 115569|     4|               tense|    Crime|\n",
      "| 115713|     4|artificial intell...|    Drama|\n",
      "| 115713|     4|       philosophical|    Drama|\n",
      "| 115713|     4|               tense|    Drama|\n",
      "| 148426|     4|    so bad it's good|    Drama|\n",
      "| 164909|     4|              cliche|   Comedy|\n",
      "| 164909|     4|             musical|   Comedy|\n",
      "| 168250|     4|              horror|   Horror|\n",
      "| 168250|     4|       unpredictable|   Horror|\n",
      "|   2160|    19|Oscar (Best Suppo...|    Drama|\n",
      "|   7099|    19|           adventure|Adventure|\n",
      "|   7099|    19|               anime|Adventure|\n",
      "|   7099|    19|             ecology|Adventure|\n",
      "|   7099|    19|             fantasy|Adventure|\n",
      "+-------+------+--------------------+---------+\n",
      "only showing top 20 rows\n",
      "\n"
     ]
    }
   ],
   "source": [
    "cols = ['movieId','genre1']\n",
    "dfk = title_df.select(*[col(c) for c in cols])\n",
    "gabung_tag=tags_df.join(dfk,on=\"movieId\",how='inner')\n",
    "gabung_tag.show()"
   ]
  },
  {
   "cell_type": "code",
   "execution_count": 120,
   "metadata": {},
   "outputs": [],
   "source": []
  },
  {
   "cell_type": "code",
   "execution_count": null,
   "metadata": {},
   "outputs": [],
   "source": []
  }
 ],
 "metadata": {
  "kernelspec": {
   "display_name": "Python 3",
   "language": "python",
   "name": "python3"
  },
  "language_info": {
   "codemirror_mode": {
    "name": "ipython",
    "version": 3
   },
   "file_extension": ".py",
   "mimetype": "text/x-python",
   "name": "python",
   "nbconvert_exporter": "python",
   "pygments_lexer": "ipython3",
   "version": "3.10.7"
  },
  "orig_nbformat": 4
 },
 "nbformat": 4,
 "nbformat_minor": 2
}
