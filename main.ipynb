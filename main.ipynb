{
 "cells": [
  {
   "cell_type": "code",
   "execution_count": 22,
   "metadata": {},
   "outputs": [],
   "source": [
    "from utils import spark"
   ]
  },
  {
   "attachments": {},
   "cell_type": "markdown",
   "metadata": {},
   "source": [
    "# load data movie"
   ]
  },
  {
   "cell_type": "code",
   "execution_count": 23,
   "metadata": {},
   "outputs": [
    {
     "name": "stdout",
     "output_type": "stream",
     "text": [
      "+-------+----------------+--------------------+\n",
      "|movieId|           title|              genres|\n",
      "+-------+----------------+--------------------+\n",
      "|      1|Toy Story (1995)|Adventure|Animati...|\n",
      "|      2|  Jumanji (1995)|Adventure|Childre...|\n",
      "+-------+----------------+--------------------+\n",
      "only showing top 2 rows\n",
      "\n"
     ]
    }
   ],
   "source": [
    "df_movies=spark.read.csv('data/movies.csv',header=True)\n",
    "df_movies.show(n=2)"
   ]
  },
  {
   "attachments": {},
   "cell_type": "markdown",
   "metadata": {},
   "source": [
    "# load Data rating"
   ]
  },
  {
   "cell_type": "code",
   "execution_count": 24,
   "metadata": {},
   "outputs": [
    {
     "name": "stdout",
     "output_type": "stream",
     "text": [
      "+------+-------+------+\n",
      "|userId|movieId|rating|\n",
      "+------+-------+------+\n",
      "|     1|    296|   5.0|\n",
      "|     1|    306|   3.5|\n",
      "|     1|    307|   5.0|\n",
      "|     1|    665|   5.0|\n",
      "|     1|    899|   3.5|\n",
      "+------+-------+------+\n",
      "only showing top 5 rows\n",
      "\n"
     ]
    }
   ],
   "source": [
    "df_rating=spark.read.csv('data/ratings.csv',header=True).select('userId','movieId','rating')\n",
    "df_rating.show(n=5)"
   ]
  },
  {
   "cell_type": "code",
   "execution_count": 25,
   "metadata": {},
   "outputs": [
    {
     "name": "stdout",
     "output_type": "stream",
     "text": [
      "root\n",
      " |-- userId: string (nullable = true)\n",
      " |-- movieId: string (nullable = true)\n",
      " |-- rating: string (nullable = true)\n",
      "\n"
     ]
    }
   ],
   "source": [
    "df_rating.printSchema()"
   ]
  },
  {
   "cell_type": "code",
   "execution_count": 26,
   "metadata": {},
   "outputs": [
    {
     "name": "stdout",
     "output_type": "stream",
     "text": [
      "+------+-------+------+\n",
      "|userId|movieId|rating|\n",
      "+------+-------+------+\n",
      "|1     |296    |5.0   |\n",
      "|1     |306    |3.5   |\n",
      "|1     |307    |5.0   |\n",
      "|1     |665    |5.0   |\n",
      "|1     |899    |3.5   |\n",
      "+------+-------+------+\n",
      "only showing top 5 rows\n",
      "\n"
     ]
    }
   ],
   "source": [
    "from pyspark.sql.types import IntegerType, DoubleType\n",
    "df_rating=df_rating.withColumn(\"movieId\", df_rating[\"movieId\"].cast(IntegerType()))\\\n",
    "                   .withColumn(\"userId\",df_rating['userId'].cast(IntegerType()))\\\n",
    "                   .withColumn(\"rating\",df_rating['rating'].cast(DoubleType()))\n",
    "df_rating.show(5,truncate=False)"
   ]
  },
  {
   "attachments": {},
   "cell_type": "markdown",
   "metadata": {},
   "source": [
    "Calculate sparsity"
   ]
  },
  {
   "cell_type": "code",
   "execution_count": 34,
   "metadata": {},
   "outputs": [
    {
     "name": "stderr",
     "output_type": "stream",
     "text": [
      "                                                                                \r"
     ]
    },
    {
     "name": "stdout",
     "output_type": "stream",
     "text": [
      "The ratings dataframe is 99.75 % empty\n"
     ]
    }
   ],
   "source": [
    "# count total of number in dataset\n",
    "numerator=df_rating.select('rating').count()\n",
    "num_user=df_rating.select('userId').distinct().count()\n",
    "num_movie=df_movies.select('movieId').distinct().count()\n",
    "denominator = num_user * num_movie\n",
    "sparsity=(1.0-(numerator * 1.0)/denominator) *100\n",
    "print(f\"The ratings dataframe is {sparsity:.2f} % empty\")"
   ]
  },
  {
   "attachments": {},
   "cell_type": "markdown",
   "metadata": {},
   "source": [
    "# data tag"
   ]
  },
  {
   "cell_type": "code",
   "execution_count": 27,
   "metadata": {},
   "outputs": [
    {
     "name": "stdout",
     "output_type": "stream",
     "text": [
      "+------+-------+----------------+----------+\n",
      "|userId|movieId|             tag| timestamp|\n",
      "+------+-------+----------------+----------+\n",
      "|     3|    260|         classic|1439472355|\n",
      "|     3|    260|          sci-fi|1439472256|\n",
      "|     4|   1732|     dark comedy|1573943598|\n",
      "|     4|   1732|  great dialogue|1573943604|\n",
      "|     4|   7569|so bad it's good|1573943455|\n",
      "+------+-------+----------------+----------+\n",
      "only showing top 5 rows\n",
      "\n"
     ]
    }
   ],
   "source": [
    "df_tag=spark.read.csv(\"data/tags.csv\",header=True)\n",
    "df_tag.show(n=5)"
   ]
  },
  {
   "cell_type": "code",
   "execution_count": 48,
   "metadata": {},
   "outputs": [
    {
     "name": "stderr",
     "output_type": "stream",
     "text": [
      "[Stage 127:==========================================>              (3 + 1) / 4]\r"
     ]
    },
    {
     "name": "stdout",
     "output_type": "stream",
     "text": [
      "+------------------+-----+\n",
      "|               tag|count|\n",
      "+------------------+-----+\n",
      "|            sci-fi| 8330|\n",
      "|       atmospheric| 6516|\n",
      "|            action| 5907|\n",
      "|            comedy| 5702|\n",
      "|           surreal| 5326|\n",
      "|   based on a book| 5079|\n",
      "|      twist ending| 4820|\n",
      "|             funny| 4738|\n",
      "|visually appealing| 4526|\n",
      "|          dystopia| 4257|\n",
      "|       dark comedy| 4026|\n",
      "|              BD-R| 3966|\n",
      "| thought-provoking| 3844|\n",
      "|           romance| 3791|\n",
      "|          stylized| 3728|\n",
      "|            quirky| 3677|\n",
      "|        psychology| 3625|\n",
      "|    woman director| 3589|\n",
      "|           fantasy| 3523|\n",
      "|           classic| 3456|\n",
      "+------------------+-----+\n",
      "only showing top 20 rows\n",
      "\n"
     ]
    },
    {
     "name": "stderr",
     "output_type": "stream",
     "text": [
      "                                                                                \r"
     ]
    }
   ],
   "source": [
    "count_tag=df_tag.groupBy('tag').count().orderBy('count',ascending=False)\n",
    "count_tag.show()"
   ]
  },
  {
   "cell_type": "code",
   "execution_count": 53,
   "metadata": {},
   "outputs": [
    {
     "name": "stderr",
     "output_type": "stream",
     "text": [
      "                                                                                \r"
     ]
    },
    {
     "data": {
      "text/plain": [
       "<Axes: >"
      ]
     },
     "execution_count": 53,
     "metadata": {},
     "output_type": "execute_result"
    },
    {
     "data": {
      "image/png": "[encoded data removed]",
      "text/plain": [
       "<Figure size 640x480 with 1 Axes>"
      ]
     },
     "metadata": {},
     "output_type": "display_data"
    }
   ],
   "source": [
    "import seaborn as sns\n",
    "# Extract the 'tag' and 'count' columns as separate lists\n",
    "top_tags=count_tag.limit(4)\n",
    "tags = top_tags.select('tag').rdd.flatMap(lambda x: x).collect()\n",
    "counts = top_tags.select('count').rdd.flatMap(lambda x: x).collect()\n",
    "sns.barplot(x=tags,y=counts)"
   ]
  },
  {
   "attachments": {},
   "cell_type": "markdown",
   "metadata": {},
   "source": [
    "# genome tag dan score"
   ]
  },
  {
   "cell_type": "code",
   "execution_count": 49,
   "metadata": {},
   "outputs": [
    {
     "name": "stdout",
     "output_type": "stream",
     "text": [
      "+-------+-----+--------------------+\n",
      "|movieId|tagId|relevance           |\n",
      "+-------+-----+--------------------+\n",
      "|1      |1    |0.028749999999999998|\n",
      "|1      |2    |0.023749999999999993|\n",
      "|1      |3    |0.0625              |\n",
      "|1      |4    |0.07574999999999998 |\n",
      "|1      |5    |0.14075             |\n",
      "+-------+-----+--------------------+\n",
      "only showing top 5 rows\n",
      "\n",
      "+-----+------------+-------+--------------------+\n",
      "|tagId|tag         |movieId|relevance           |\n",
      "+-----+------------+-------+--------------------+\n",
      "|1    |007         |1      |0.028749999999999998|\n",
      "|2    |007 (series)|1      |0.023749999999999993|\n",
      "|3    |18th century|1      |0.0625              |\n",
      "|4    |1920s       |1      |0.07574999999999998 |\n",
      "|5    |1930s       |1      |0.14075             |\n",
      "+-----+------------+-------+--------------------+\n",
      "only showing top 5 rows\n",
      "\n"
     ]
    }
   ],
   "source": [
    "genome_score=spark.read.csv('data/genome-scores.csv',header=True)\n",
    "genome_tag=spark.read.csv('data/genome-tags.csv',header=True)\n",
    "# genome_tag.show(5,truncate=False)\n",
    "genome_score.show(5,truncate=False)\n",
    "genome=genome_tag.join(genome_score,on='tagId')\n",
    "genome.show(5,truncate=False)"
   ]
  },
  {
   "attachments": {},
   "cell_type": "markdown",
   "metadata": {},
   "source": [
    "# Join data"
   ]
  },
  {
   "cell_type": "code",
   "execution_count": 29,
   "metadata": {},
   "outputs": [
    {
     "name": "stdout",
     "output_type": "stream",
     "text": [
      "+------+-------+---------------------------+------------------------------------------------+------+\n",
      "|userId|movieId|genres                     |title                                           |rating|\n",
      "+------+-------+---------------------------+------------------------------------------------+------+\n",
      "|1     |296    |Comedy|Crime|Drama|Thriller|Pulp Fiction (1994)                             |5.0   |\n",
      "|1     |306    |Drama                      |Three Colors: Red (Trois couleurs: Rouge) (1994)|3.5   |\n",
      "|1     |307    |Drama                      |Three Colors: Blue (Trois couleurs: Bleu) (1993)|5.0   |\n",
      "|1     |665    |Comedy|Drama|War           |Underground (1995)                              |5.0   |\n",
      "|1     |899    |Comedy|Musical|Romance     |Singin' in the Rain (1952)                      |3.5   |\n",
      "+------+-------+---------------------------+------------------------------------------------+------+\n",
      "only showing top 5 rows\n",
      "\n"
     ]
    }
   ],
   "source": [
    "gabung1=df_rating.join(df_movies,on='movieId').select('userId','movieId',\n",
    "                                                      'genres','title','rating')\n",
    "gabung1.show(5,truncate=False)"
   ]
  },
  {
   "cell_type": "code",
   "execution_count": null,
   "metadata": {},
   "outputs": [],
   "source": []
  }
 ],
 "metadata": {
  "kernelspec": {
   "display_name": "Python 3",
   "language": "python",
   "name": "python3"
  },
  "language_info": {
   "codemirror_mode": {
    "name": "ipython",
    "version": 3
   },
   "file_extension": ".py",
   "mimetype": "text/x-python",
   "name": "python",
   "nbconvert_exporter": "python",
   "pygments_lexer": "ipython3",
   "version": "3.10.7"
  },
  "orig_nbformat": 4
 },
 "nbformat": 4,
 "nbformat_minor": 2
}
